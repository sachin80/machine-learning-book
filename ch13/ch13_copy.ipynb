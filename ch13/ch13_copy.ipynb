{
 "cells": [
  {
   "cell_type": "code",
   "execution_count": 4,
   "metadata": {},
   "outputs": [],
   "source": [
    "import torch\n",
    "import torch.nn as nn\n",
    "class MyModule(nn.Module):\n",
    "    def __init__(self):\n",
    "        super().__init__()\n",
    "        self.w1 = torch.empty(2, 3, requires_grad=True)\n",
    "        nn.init.xavier_normal_(self.w1)\n",
    "        self.w2 = torch.empty(1, 2, requires_grad=True)\n",
    "        nn.init.xavier_normal_(self.w2)\n"
   ]
  },
  {
   "cell_type": "code",
   "execution_count": null,
   "metadata": {},
   "outputs": [],
   "source": [
    "# z = wx + b, loss = (y-z)^2"
   ]
  },
  {
   "cell_type": "code",
   "execution_count": 6,
   "metadata": {},
   "outputs": [
    {
     "data": {
      "text/plain": [
       "Sequential(\n",
       "  (0): Linear(in_features=4, out_features=16, bias=True)\n",
       "  (1): ReLU()\n",
       "  (2): Linear(in_features=16, out_features=32, bias=True)\n",
       "  (3): ReLU()\n",
       ")"
      ]
     },
     "execution_count": 6,
     "metadata": {},
     "output_type": "execute_result"
    }
   ],
   "source": [
    "# Layers are stored in a cascaded way \n",
    "model = nn.Sequential(\n",
    "    nn.Linear(4, 16), \n",
    "    nn.ReLU(), \n",
    "    nn.Linear(16, 32), \n",
    "    nn.ReLU()\n",
    ")\n",
    "\n",
    "model "
   ]
  },
  {
   "cell_type": "code",
   "execution_count": 8,
   "metadata": {},
   "outputs": [
    {
     "data": {
      "text/plain": [
       "Parameter containing:\n",
       "tensor([[ 0.0189, -0.0855,  0.0801,  0.4646],\n",
       "        [ 0.3254, -0.2396,  0.2466, -0.3965],\n",
       "        [-0.0038,  0.3702,  0.1401, -0.0014],\n",
       "        [-0.1863,  0.0554,  0.0802,  0.4485],\n",
       "        [-0.2715, -0.2417,  0.2955, -0.3855],\n",
       "        [-0.1559,  0.4251, -0.3578,  0.3088],\n",
       "        [ 0.3604, -0.4843,  0.2090, -0.4453],\n",
       "        [ 0.0040,  0.3824,  0.3974,  0.1489],\n",
       "        [-0.3173,  0.4308, -0.0175, -0.2904],\n",
       "        [ 0.2889,  0.1207,  0.4217, -0.1976],\n",
       "        [-0.1088,  0.0328, -0.1412, -0.3986],\n",
       "        [ 0.1739, -0.1055,  0.4551, -0.0625],\n",
       "        [ 0.2579,  0.2532, -0.1628,  0.1231],\n",
       "        [ 0.1526,  0.4913,  0.1457,  0.4519],\n",
       "        [ 0.0239, -0.4132,  0.2088,  0.1589],\n",
       "        [-0.2417, -0.3112, -0.4292, -0.3289]], requires_grad=True)"
      ]
     },
     "execution_count": 8,
     "metadata": {},
     "output_type": "execute_result"
    }
   ],
   "source": [
    "# specify initial value distribution for weight for first layer\n",
    "nn.init.xavier_uniform_(model[0].weight)\n",
    "# l1 penatly for second layer weight matrix\n",
    "l1_weight = 0.01\n",
    "# l1 norm fo the second layer weights \n",
    "l1_penalty = l1_weight * model[2].weight.abs().sum()\n",
    "# binary cross entropy loss \n",
    "loss_fn = nn.BCELoss()\n",
    "# sgd\n",
    "optimizer = torch.optim.SGD(model.parameters(), lr=0.001)\n"
   ]
  },
  {
   "cell_type": "code",
   "execution_count": 9,
   "metadata": {},
   "outputs": [],
   "source": [
    "# XOR classification problem\n",
    "# generate toy dataset of 200 training exampels with features x0, x1\n",
    "# x0, x1 drawn from uniform dist. between [-1, 1)\n",
    "# y = 0 if xo*x1 < 0 else 1\n",
    "import matplotlib.pyplot as plt \n",
    "import numpy as np \n",
    "torch.manual_seed(1)\n",
    "np.random.seed(1)\n",
    "x = np.random.uniform(low=-1, high=1, size=(200, 2))\n",
    "y = np.ones(len(x))"
   ]
  },
  {
   "cell_type": "code",
   "execution_count": 13,
   "metadata": {},
   "outputs": [
    {
     "data": {
      "image/png": "[encoded data removed]",
      "text/plain": [
       "<Figure size 432x432 with 1 Axes>"
      ]
     },
     "metadata": {
      "needs_background": "light"
     },
     "output_type": "display_data"
    }
   ],
   "source": [
    "y = np.ones(len(x))\n",
    "y[x[:,0] * x[:,1] < 0] = 0 \n",
    "n_train = 100 \n",
    "x_train = torch.tensor(x[:n_train, :], dtype=torch.float32)\n",
    "y_train = torch.tensor(y[:n_train], dtype=torch.float32)\n",
    "x_valid = torch.tensor(x[n_train:, :], dtype=torch.float32)\n",
    "y_valid = torch.tensor(y[n_train:], dtype=torch.float32)\n",
    "fig = plt.figure(figsize=(6,6))\n",
    "plt.plot(x[y==0, 0], x[y==0, 1], 'o', alpha=0.75, markersize=10)\n",
    "plt.plot(x[y==1, 0], x[y==1, 1], '<', alpha=0.75, markersize=10)\n",
    "plt.xlabel(r'$x_1$', size=15)\n",
    "plt.ylabel(r'$x_2$', size=15)\n",
    "plt.show()"
   ]
  }
 ],
 "metadata": {
  "kernelspec": {
   "display_name": "Python 3.8.12 (conda)",
   "language": "python",
   "name": "python3"
  },
  "language_info": {
   "codemirror_mode": {
    "name": "ipython",
    "version": 3
   },
   "file_extension": ".py",
   "mimetype": "text/x-python",
   "name": "python",
   "nbconvert_exporter": "python",
   "pygments_lexer": "ipython3",
   "version": "3.8.12"
  },
  "orig_nbformat": 4,
  "vscode": {
   "interpreter": {
    "hash": "938ffa94858a5338872cf94aadfc571f63e35eaa400cce8f70beca46161c3eaa"
   }
  }
 },
 "nbformat": 4,
 "nbformat_minor": 2
}
